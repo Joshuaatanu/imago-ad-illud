{
  "nbformat": 4,
  "nbformat_minor": 0,
  "metadata": {
    "colab": {
      "provenance": [],
      "authorship_tag": "ABX9TyNG1f8hKeUIyjWUSRvUyo8r",
      "include_colab_link": true
    },
    "kernelspec": {
      "name": "python3",
      "display_name": "Python 3"
    },
    "language_info": {
      "name": "python"
    }
  },
  "cells": [
    {
      "cell_type": "markdown",
      "metadata": {
        "id": "view-in-github",
        "colab_type": "text"
      },
      "source": [
        "<a href=\"https://colab.research.google.com/github/Joshuaatanu/imago-ad-illud/blob/main/OCR.ipynb\" target=\"_parent\"><img src=\"https://colab.research.google.com/assets/colab-badge.svg\" alt=\"Open In Colab\"/></a>"
      ]
    },
    {
      "cell_type": "markdown",
      "source": [
        "# **Phase 1: OCR convert image to text**"
      ],
      "metadata": {
        "id": "PBSMEHoeX-KR"
      }
    },
    {
      "cell_type": "code",
      "execution_count": 13,
      "metadata": {
        "id": "-DHXCBIoX9eC"
      },
      "outputs": [],
      "source": [
        "import pytesseract\n",
        "from PIL import Image\n",
        "\n"
      ]
    },
    {
      "cell_type": "code",
      "source": [
        "print(pytesseract.image_to_string(Image.open('test.png')))"
      ],
      "metadata": {
        "colab": {
          "base_uri": "https://localhost:8080/"
        },
        "id": "Vv09C4X7Yr0v",
        "outputId": "22d0ced8-9599-4e37-8e7c-d0f65eb9423e"
      },
      "execution_count": 15,
      "outputs": [
        {
          "output_type": "stream",
          "name": "stdout",
          "text": [
            "This is a lot of 12 point text to test the\n",
            "ocr code and see if it works on all types\n",
            "of file format.\n",
            "\n",
            "The quick brown dog jumped over the\n",
            "lazy fox. The quick brown dog jumped\n",
            "over the lazy fox. The quick brown dog\n",
            "jumped over the lazy fox. The quick\n",
            "brown dog jumped over the lazy fox.\n",
            "\f\n"
          ]
        }
      ]
    },
    {
      "cell_type": "code",
      "source": [
        "# prompt: save printed item to txt\n",
        "\n",
        "with open('output.txt', 'w') as f:\n",
        "  f.write(pytesseract.image_to_string(Image.open('test.png')))\n"
      ],
      "metadata": {
        "id": "rYresaZmbfBH"
      },
      "execution_count": 16,
      "outputs": []
    },
    {
      "cell_type": "markdown",
      "source": [
        "# **Phase 2:  Using NLTK for topic extration**"
      ],
      "metadata": {
        "id": "djqV1_2YdC0d"
      }
    },
    {
      "cell_type": "code",
      "source": [],
      "metadata": {
        "id": "h_eeHWD2dP_D"
      },
      "execution_count": null,
      "outputs": []
    }
  ]
}